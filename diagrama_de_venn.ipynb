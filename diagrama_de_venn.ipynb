{
 "cells": [
  {
   "cell_type": "code",
   "execution_count": 2,
   "metadata": {},
   "outputs": [
    {
     "ename": "SyntaxError",
     "evalue": "invalid syntax (<ipython-input-2-0bd0128c517d>, line 2)",
     "output_type": "error",
     "traceback": [
      "\u001b[1;36m  File \u001b[1;32m\"<ipython-input-2-0bd0128c517d>\"\u001b[1;36m, line \u001b[1;32m2\u001b[0m\n\u001b[1;33m    jt -t chesterish\u001b[0m\n\u001b[1;37m                   ^\u001b[0m\n\u001b[1;31mSyntaxError\u001b[0m\u001b[1;31m:\u001b[0m invalid syntax\n"
     ]
    }
   ],
   "source": [
    "!pip install matplotlib-venn\n",
    "from matplotlib_venn import venn3\n",
    "import matplotlib.pyplot as plt\n",
    "import numpy as np"
   ]
  },
  {
   "cell_type": "code",
   "execution_count": 3,
   "metadata": {},
   "outputs": [],
   "source": [
    "x, y1 = np.loadtxt('CNPQ_Novo.csv', unpack = True, delimiter = ';', usecols = (0,1), dtype = 'int,int')"
   ]
  },
  {
   "cell_type": "code",
   "execution_count": 4,
   "metadata": {},
   "outputs": [],
   "source": [
    "x, y2 = np.loadtxt('CAPES_Novo.csv', unpack = True, delimiter = ';', usecols = (0,1), dtype = 'int,int')"
   ]
  },
  {
   "cell_type": "code",
   "execution_count": 5,
   "metadata": {},
   "outputs": [],
   "source": [
    "x, y3 = np.loadtxt('CAPES_CNPQ.csv', unpack = True, delimiter = ';', usecols = (0,1), dtype = 'int,int')"
   ]
  },
  {
   "cell_type": "code",
   "execution_count": 6,
   "metadata": {},
   "outputs": [],
   "source": [
    "x, y4 = np.loadtxt('FAPESP_Novo.csv', unpack = True, delimiter = ';', usecols = (0,1), dtype = 'int,int')"
   ]
  },
  {
   "cell_type": "code",
   "execution_count": 7,
   "metadata": {},
   "outputs": [],
   "source": [
    "x, y5 = np.loadtxt('FAPESP_CNPQ.csv', unpack = True, delimiter = ';', usecols = (0,1), dtype = 'int,int')"
   ]
  },
  {
   "cell_type": "code",
   "execution_count": 8,
   "metadata": {},
   "outputs": [],
   "source": [
    "x, y6 = np.loadtxt('FAPESP_CAPES.csv', unpack = True, delimiter = ';', usecols = (0,1), dtype = 'int,int')"
   ]
  },
  {
   "cell_type": "code",
   "execution_count": 9,
   "metadata": {},
   "outputs": [],
   "source": [
    "x, y7 = np.loadtxt('FAPESP_CAPES_CNPQ.csv', unpack = True, delimiter = ';', usecols = (0,1), dtype = 'int,int')"
   ]
  },
  {
   "cell_type": "code",
   "execution_count": 10,
   "metadata": {},
   "outputs": [],
   "source": [
    "CNPQ_r = sum(y1)\n",
    "CAPES_r = sum(y2)\n",
    "FAPESP_r = sum(y4)\n",
    "CNPQ_CAPES_r = sum(y3)\n",
    "CNPQ_FAPESP_r = sum(y5)\n",
    "FAPESP_CAPES_r = sum(y6)\n",
    "TODOS = sum(y7)"
   ]
  },
  {
   "cell_type": "code",
   "execution_count": 11,
   "metadata": {},
   "outputs": [],
   "source": [
    "CNPQ_CAPES = (CNPQ_CAPES_r - TODOS)\n",
    "CNPQ_FAPESP = (CNPQ_FAPESP_r - TODOS)\n",
    "FAPESP_CAPES = (FAPESP_CAPES_r - TODOS)\n"
   ]
  },
  {
   "cell_type": "code",
   "execution_count": 12,
   "metadata": {},
   "outputs": [],
   "source": [
    "CNPQ = (CNPQ_r - (CNPQ_CAPES + CNPQ_FAPESP + TODOS))\n",
    "CAPES = (CAPES_r - (CNPQ_CAPES + FAPESP_CAPES + TODOS))\n",
    "FAPESP = (FAPESP_r - (CNPQ_FAPESP + FAPESP_CAPES + TODOS))"
   ]
  },
  {
   "cell_type": "code",
   "execution_count": 13,
   "metadata": {},
   "outputs": [
    {
     "name": "stdout",
     "output_type": "stream",
     "text": [
      "52231\n",
      "23720\n",
      "4652\n",
      "\n",
      "53794\n",
      "22323\n",
      "21084\n",
      "\n",
      "16345\n"
     ]
    }
   ],
   "source": [
    "print(CNPQ_CAPES)\n",
    "print(CNPQ_FAPESP)\n",
    "print(FAPESP_CAPES)\n",
    "print('')\n",
    "print(CNPQ)\n",
    "print(CAPES) \n",
    "print(FAPESP) \n",
    "print('')\n",
    "print(TODOS)"
   ]
  },
  {
   "cell_type": "code",
   "execution_count": 16,
   "metadata": {},
   "outputs": [
    {
     "data": {
      "image/png": "[encoded data removed]",
      "text/plain": [
       "<Figure size 432x288 with 1 Axes>"
      ]
     },
     "metadata": {},
     "output_type": "display_data"
    }
   ],
   "source": [
    "vd = venn3(subsets=(CNPQ,CAPES,CNPQ_CAPES,FAPESP,CNPQ_FAPESP,FAPESP_CAPES,TODOS), set_labels = ('CNPQ', 'CAPES', 'FAPESP'))\n"
   ]
  },
  {
   "cell_type": "code",
   "execution_count": null,
   "metadata": {},
   "outputs": [],
   "source": []
  }
 ],
 "metadata": {
  "kernelspec": {
   "display_name": "Python 3",
   "language": "python",
   "name": "python3"
  },
  "language_info": {
   "codemirror_mode": {
    "name": "ipython",
    "version": 3
   },
   "file_extension": ".py",
   "mimetype": "text/x-python",
   "name": "python",
   "nbconvert_exporter": "python",
   "pygments_lexer": "ipython3",
   "version": "3.7.1"
  }
 },
 "nbformat": 4,
 "nbformat_minor": 2
}
